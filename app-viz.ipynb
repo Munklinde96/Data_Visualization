{
 "cells": [
  {
   "cell_type": "code",
   "execution_count": 1,
   "source": [
    "! pip install dash   \n",
    "! pip install dash-html-components                                         \n",
    "! pip install dash-core-components                                     \n",
    "! pip install plotly"
   ],
   "outputs": [
    {
     "output_type": "stream",
     "name": "stdout",
     "text": [
      "Requirement already satisfied: dash in /opt/anaconda3/lib/python3.8/site-packages (2.0.0)\n",
      "Requirement already satisfied: Flask>=1.0.4 in /opt/anaconda3/lib/python3.8/site-packages (from dash) (1.1.2)\n",
      "Requirement already satisfied: dash-core-components==2.0.0 in /opt/anaconda3/lib/python3.8/site-packages (from dash) (2.0.0)\n",
      "Requirement already satisfied: dash-html-components==2.0.0 in /opt/anaconda3/lib/python3.8/site-packages (from dash) (2.0.0)\n",
      "Requirement already satisfied: dash-table==5.0.0 in /opt/anaconda3/lib/python3.8/site-packages (from dash) (5.0.0)\n",
      "Requirement already satisfied: plotly>=5.0.0 in /opt/anaconda3/lib/python3.8/site-packages (from dash) (5.3.1)\n",
      "Requirement already satisfied: flask-compress in /opt/anaconda3/lib/python3.8/site-packages (from dash) (1.10.1)\n",
      "Requirement already satisfied: Jinja2>=2.10.1 in /opt/anaconda3/lib/python3.8/site-packages (from Flask>=1.0.4->dash) (2.11.3)\n",
      "Requirement already satisfied: click>=5.1 in /opt/anaconda3/lib/python3.8/site-packages (from Flask>=1.0.4->dash) (7.1.2)\n",
      "Requirement already satisfied: Werkzeug>=0.15 in /opt/anaconda3/lib/python3.8/site-packages (from Flask>=1.0.4->dash) (1.0.1)\n",
      "Requirement already satisfied: itsdangerous>=0.24 in /opt/anaconda3/lib/python3.8/site-packages (from Flask>=1.0.4->dash) (1.1.0)\n",
      "Requirement already satisfied: MarkupSafe>=0.23 in /opt/anaconda3/lib/python3.8/site-packages (from Jinja2>=2.10.1->Flask>=1.0.4->dash) (1.1.1)\n",
      "Requirement already satisfied: six in /opt/anaconda3/lib/python3.8/site-packages (from plotly>=5.0.0->dash) (1.15.0)\n",
      "Requirement already satisfied: tenacity>=6.2.0 in /opt/anaconda3/lib/python3.8/site-packages (from plotly>=5.0.0->dash) (8.0.1)\n",
      "Requirement already satisfied: brotli in /opt/anaconda3/lib/python3.8/site-packages (from flask-compress->dash) (1.0.9)\n",
      "Requirement already satisfied: dash-html-components in /opt/anaconda3/lib/python3.8/site-packages (2.0.0)\n",
      "Requirement already satisfied: dash-core-components in /opt/anaconda3/lib/python3.8/site-packages (2.0.0)\n",
      "Requirement already satisfied: plotly in /opt/anaconda3/lib/python3.8/site-packages (5.3.1)\n",
      "Requirement already satisfied: six in /opt/anaconda3/lib/python3.8/site-packages (from plotly) (1.15.0)\n",
      "Requirement already satisfied: tenacity>=6.2.0 in /opt/anaconda3/lib/python3.8/site-packages (from plotly) (8.0.1)\n"
     ]
    }
   ],
   "metadata": {}
  },
  {
   "cell_type": "code",
   "execution_count": 10,
   "source": [
    "import dash\n",
    "import dash_html_components as html\n",
    "import plotly.graph_objects as go\n",
    "import dash_core_components as dcc\n",
    "from dash.dependencies import Input, Output\n",
    "from utils import get_modification_count_per_protein\n",
    "import pandas as pd\n",
    "\n",
    "path = r\"UHT milk P036.csv\"\n",
    " \n",
    "df = pd.read_csv(path)\n",
    "\n",
    "def count_no_of_modifications(ptm_str):\n",
    "    #check if NaN value\n",
    "    if pd.isnull(ptm_str):\n",
    "        return 0\n",
    "    return 1 + ptm_str.count(';')\n",
    "\n",
    "#apply count_no_of_modifications to each PTM column\n",
    "df['#modifications'] = df['PTM'].apply(count_no_of_modifications)\n",
    "#print non zero values in modifcations column\n",
    "df[df['#modifications'] > 0]\n",
    "\n",
    "app = dash.Dash()\n",
    "\n",
    "colorscales = px.colors.named_colorscales()\n",
    "\n",
    "def df_to_plotly(df):\n",
    "    return {'z': df.values.tolist(),\n",
    "            'x': df.columns.tolist(),\n",
    "            'y': df.index.tolist()}\n",
    "\n",
    "app.layout = html.Div(id = 'parent', children = [\n",
    "    html.H1(id = 'H1', children = 'Distribution of modifications over different proteins', style = {'textAlign':'center',\\\n",
    "                                            'marginTop':40,'marginBottom':40}),\n",
    "        dcc.Dropdown( id = 'norm_dropdown',\n",
    "        options = [\n",
    "            {'label':'Normalization: nothing', \"value\":\"\" },\n",
    "            {'label': 'Normalization: total protein modification count', 'value':\"protein_total_mod_count\"},\n",
    "            {'label': 'Normalizaton: protein length', 'value':\"protein_length\"},\n",
    "            {'label': 'Normalization: protein mass', 'value':\"protein_mass\"},\n",
    "            ],\n",
    "        value = ''),\n",
    "        dcc.Dropdown( id = 'count_dropdown',\n",
    "        options = [\n",
    "            {'label':'Only include proteins with modification count OVER 10', \"value\":10 },\n",
    "            {'label': 'Only include proteins with modification count OVER 20', 'value':20},\n",
    "            {'label': 'Only include proteins with modification count OVER 40', 'value':40},\n",
    "            {'label': 'Only include proteins with modification count OVER 80', 'value':80},\n",
    "            {'label': 'Only include proteins with modification count OVER 160', 'value':160},\n",
    "            {'label': 'Only include proteins with modification count OVER 320', 'value':320},\n",
    "            {'label': 'Only include proteins with modification count OVER 640', 'value':640},\n",
    "            ],\n",
    "        value = 80),\n",
    "        dcc.Dropdown(\n",
    "        id='colorscale', \n",
    "        options=[{\"value\": x, \"label\": x} \n",
    "                 for x in colorscales],\n",
    "        value='viridis'\n",
    "        ),\n",
    "        dcc.Graph(id = 'mod_heatmap_plot'),\n",
    "                dcc.Loading(\n",
    "            id=\"loading-1\",\n",
    "            type=\"default\",\n",
    "            children=html.Div(id=\"loading-output-1\")\n",
    "        ),\n",
    "    ])\n",
    "    \n",
    "    \n",
    "@app.callback(Output(component_id='mod_heatmap_plot', component_property= 'figure'),\n",
    "              [Input(component_id='norm_dropdown', component_property= 'value'), Input(component_id='count_dropdown', component_property= 'value'), Input(\"colorscale\", \"value\")])\n",
    "def graph_update(dropdown_value_norm, dropdown_value_count, scale):\n",
    "    print(dropdown_value_norm)\n",
    "    print(dropdown_value_count)\n",
    "    modPd = pd.DataFrame(get_modification_count_per_protein(df, dropdown_value_count, '{0}'.format(dropdown_value_norm)))\n",
    "    fig = go.Figure(data=go.Heatmap(df_to_plotly(modPd), colorscale = scale))\n",
    "    fig.update_layout(title = 'Distribution of modifications over proteins',\n",
    "                      xaxis_title = 'Name of protein',\n",
    "                      yaxis_title = 'Name of modification'\n",
    "                      )\n",
    "    return fig  \n",
    "\n",
    "\n",
    "app.run_server()"
   ],
   "outputs": [
    {
     "output_type": "stream",
     "name": "stdout",
     "text": [
      "Dash is running on http://127.0.0.1:8050/\n",
      "\n",
      "Dash is running on http://127.0.0.1:8050/\n",
      "\n",
      "Dash is running on http://127.0.0.1:8050/\n",
      "\n",
      "Dash is running on http://127.0.0.1:8050/\n",
      "\n",
      "Dash is running on http://127.0.0.1:8050/\n",
      "\n",
      "Dash is running on http://127.0.0.1:8050/\n",
      "\n",
      "Dash is running on http://127.0.0.1:8050/\n",
      "\n",
      "Dash is running on http://127.0.0.1:8050/\n",
      "\n",
      "Dash is running on http://127.0.0.1:8050/\n",
      "\n",
      "Dash is running on http://127.0.0.1:8050/\n",
      "\n",
      " * Serving Flask app \"__main__\" (lazy loading)\n",
      " * Environment: production\n",
      "\u001b[31m   WARNING: This is a development server. Do not use it in a production deployment.\u001b[0m\n",
      "\u001b[2m   Use a production WSGI server instead.\u001b[0m\n",
      " * Debug mode: off\n"
     ]
    },
    {
     "output_type": "stream",
     "name": "stderr",
     "text": [
      " * Running on http://127.0.0.1:8050/ (Press CTRL+C to quit)\n",
      "127.0.0.1 - - [05/Oct/2021 14:58:51] \"\u001b[37mGET / HTTP/1.1\u001b[0m\" 200 -\n",
      "127.0.0.1 - - [05/Oct/2021 14:58:51] \"\u001b[37mGET /_dash-component-suites/dash/deps/polyfill@7.v2_0_0m1633432702.12.1.min.js HTTP/1.1\u001b[0m\" 200 -\n",
      "127.0.0.1 - - [05/Oct/2021 14:58:51] \"\u001b[37mGET /_dash-component-suites/dash/dcc/dash_core_components.v2_0_0m1633432702.js HTTP/1.1\u001b[0m\" 200 -\n",
      "127.0.0.1 - - [05/Oct/2021 14:58:51] \"\u001b[37mGET /_dash-component-suites/dash/dash-renderer/build/dash_renderer.v2_0_0m1633432702.min.js HTTP/1.1\u001b[0m\" 200 -\n",
      "127.0.0.1 - - [05/Oct/2021 14:58:51] \"\u001b[37mGET /_dash-component-suites/dash/deps/react-dom@16.v2_0_0m1633432702.14.0.min.js HTTP/1.1\u001b[0m\" 200 -\n",
      "127.0.0.1 - - [05/Oct/2021 14:58:51] \"\u001b[37mGET /_dash-component-suites/dash/deps/prop-types@15.v2_0_0m1633432702.7.2.min.js HTTP/1.1\u001b[0m\" 200 -\n",
      "127.0.0.1 - - [05/Oct/2021 14:58:51] \"\u001b[37mGET /_dash-component-suites/dash/dcc/dash_core_components-shared.v2_0_0m1633432702.js HTTP/1.1\u001b[0m\" 200 -\n",
      "127.0.0.1 - - [05/Oct/2021 14:58:51] \"\u001b[37mGET /_dash-component-suites/dash/deps/react@16.v2_0_0m1633432702.14.0.min.js HTTP/1.1\u001b[0m\" 200 -\n",
      "127.0.0.1 - - [05/Oct/2021 14:58:51] \"\u001b[37mGET /_dash-component-suites/dash/html/dash_html_components.v2_0_0m1633432702.min.js HTTP/1.1\u001b[0m\" 200 -\n",
      "127.0.0.1 - - [05/Oct/2021 14:58:51] \"\u001b[37mGET /_dash-component-suites/dash/dash_table/bundle.v5_0_0m1633432702.js HTTP/1.1\u001b[0m\" 200 -\n",
      "127.0.0.1 - - [05/Oct/2021 14:58:51] \"\u001b[37mGET /_dash-layout HTTP/1.1\u001b[0m\" 200 -\n",
      "127.0.0.1 - - [05/Oct/2021 14:58:51] \"\u001b[37mGET /_dash-dependencies HTTP/1.1\u001b[0m\" 200 -\n",
      "127.0.0.1 - - [05/Oct/2021 14:58:51] \"\u001b[37mGET /_favicon.ico?v=2.0.0 HTTP/1.1\u001b[0m\" 200 -\n",
      "127.0.0.1 - - [05/Oct/2021 14:58:51] \"\u001b[36mGET /_dash-component-suites/dash/dcc/async-dropdown.js HTTP/1.1\u001b[0m\" 304 -\n",
      "127.0.0.1 - - [05/Oct/2021 14:58:51] \"\u001b[36mGET /_dash-component-suites/dash/dcc/async-graph.js HTTP/1.1\u001b[0m\" 304 -\n",
      "127.0.0.1 - - [05/Oct/2021 14:58:51] \"\u001b[36mGET /_dash-component-suites/dash/dcc/async-plotlyjs.js HTTP/1.1\u001b[0m\" 304 -\n",
      "127.0.0.1 - - [05/Oct/2021 14:58:51] \"\u001b[37mPOST /_dash-update-component HTTP/1.1\u001b[0m\" 200 -\n"
     ]
    },
    {
     "output_type": "stream",
     "name": "stdout",
     "text": [
      "\n",
      "80\n",
      "normalization: \n",
      "norm is: no normalization\n"
     ]
    },
    {
     "output_type": "stream",
     "name": "stderr",
     "text": [
      "127.0.0.1 - - [05/Oct/2021 14:58:55] \"\u001b[37mPOST /_dash-update-component HTTP/1.1\u001b[0m\" 200 -\n"
     ]
    },
    {
     "output_type": "stream",
     "name": "stdout",
     "text": [
      "\n",
      "80\n",
      "normalization: \n",
      "norm is: no normalization\n"
     ]
    },
    {
     "output_type": "stream",
     "name": "stderr",
     "text": [
      "127.0.0.1 - - [05/Oct/2021 14:58:59] \"\u001b[37mPOST /_dash-update-component HTTP/1.1\u001b[0m\" 200 -\n"
     ]
    },
    {
     "output_type": "stream",
     "name": "stdout",
     "text": [
      "\n",
      "320\n",
      "normalization: \n",
      "norm is: no normalization\n"
     ]
    },
    {
     "output_type": "stream",
     "name": "stderr",
     "text": [
      "127.0.0.1 - - [05/Oct/2021 14:59:02] \"\u001b[37mPOST /_dash-update-component HTTP/1.1\u001b[0m\" 200 -\n"
     ]
    },
    {
     "output_type": "stream",
     "name": "stdout",
     "text": [
      "\n",
      "10\n",
      "normalization: \n",
      "norm is: no normalization\n"
     ]
    },
    {
     "output_type": "stream",
     "name": "stderr",
     "text": [
      "127.0.0.1 - - [05/Oct/2021 14:59:05] \"\u001b[37mPOST /_dash-update-component HTTP/1.1\u001b[0m\" 200 -\n"
     ]
    },
    {
     "output_type": "stream",
     "name": "stdout",
     "text": [
      "protein_total_mod_count\n",
      "10\n",
      "normalization: protein_total_mod_count\n",
      "norm is: protein_total_mod_count\n",
      "P02666\n",
      "P02662\n",
      "P02668\n",
      "P02754\n",
      "B5B3R8\n",
      "P00711\n",
      "P02663\n",
      "B9VPZ5\n",
      "P24627\n",
      "G9G9X6\n",
      "P80457\n",
      "P81265\n",
      "P18892\n",
      "Q95114\n",
      "Q19KS1\n",
      "P80025\n",
      "P80195\n",
      "Q9BDG3\n",
      "P11151\n",
      "P31096\n",
      "P10152\n",
      "Q58DP6\n",
      "P02702\n"
     ]
    },
    {
     "output_type": "stream",
     "name": "stderr",
     "text": [
      "127.0.0.1 - - [05/Oct/2021 14:59:07] \"\u001b[37mPOST /_dash-update-component HTTP/1.1\u001b[0m\" 200 -\n"
     ]
    },
    {
     "output_type": "stream",
     "name": "stdout",
     "text": [
      "protein_total_mod_count\n",
      "10\n",
      "normalization: protein_total_mod_count\n",
      "norm is: protein_total_mod_count\n",
      "P02666\n",
      "P02662\n",
      "P02668\n",
      "P02754\n",
      "B5B3R8\n",
      "P00711\n",
      "P02663\n",
      "B9VPZ5\n",
      "P24627\n",
      "G9G9X6\n",
      "P80457\n",
      "P81265\n",
      "P18892\n",
      "Q95114\n",
      "Q19KS1\n",
      "P80025\n",
      "P80195\n",
      "Q9BDG3\n",
      "P11151\n",
      "P31096\n",
      "P10152\n",
      "Q58DP6\n",
      "P02702\n"
     ]
    },
    {
     "output_type": "stream",
     "name": "stderr",
     "text": [
      "127.0.0.1 - - [05/Oct/2021 14:59:08] \"\u001b[37mPOST /_dash-update-component HTTP/1.1\u001b[0m\" 200 -\n"
     ]
    },
    {
     "output_type": "stream",
     "name": "stdout",
     "text": [
      "protein_total_mod_count\n",
      "10\n",
      "normalization: protein_total_mod_count\n",
      "norm is: protein_total_mod_count\n",
      "P02666\n",
      "P02662\n",
      "P02668\n",
      "P02754\n",
      "B5B3R8\n",
      "P00711\n",
      "P02663\n",
      "B9VPZ5\n",
      "P24627\n",
      "G9G9X6\n",
      "P80457\n",
      "P81265\n",
      "P18892\n",
      "Q95114\n",
      "Q19KS1\n",
      "P80025\n",
      "P80195\n",
      "Q9BDG3\n",
      "P11151\n",
      "P31096\n",
      "P10152\n",
      "Q58DP6\n",
      "P02702\n"
     ]
    },
    {
     "output_type": "stream",
     "name": "stderr",
     "text": [
      "127.0.0.1 - - [05/Oct/2021 14:59:11] \"\u001b[37mPOST /_dash-update-component HTTP/1.1\u001b[0m\" 200 -\n"
     ]
    },
    {
     "output_type": "stream",
     "name": "stdout",
     "text": [
      "protein_total_mod_count\n",
      "10\n",
      "normalization: protein_total_mod_count\n",
      "norm is: protein_total_mod_count\n",
      "P02666\n",
      "P02662\n",
      "P02668\n",
      "P02754\n",
      "B5B3R8\n",
      "P00711\n",
      "P02663\n",
      "B9VPZ5\n",
      "P24627\n",
      "G9G9X6\n",
      "P80457\n",
      "P81265\n",
      "P18892\n",
      "Q95114\n",
      "Q19KS1\n",
      "P80025\n",
      "P80195\n",
      "Q9BDG3\n",
      "P11151\n",
      "P31096\n",
      "P10152\n",
      "Q58DP6\n",
      "P02702\n"
     ]
    },
    {
     "output_type": "stream",
     "name": "stderr",
     "text": [
      "127.0.0.1 - - [05/Oct/2021 14:59:15] \"\u001b[37mPOST /_dash-update-component HTTP/1.1\u001b[0m\" 200 -\n"
     ]
    },
    {
     "output_type": "stream",
     "name": "stdout",
     "text": [
      "protein_total_mod_count\n",
      "10\n",
      "normalization: protein_total_mod_count\n",
      "norm is: protein_total_mod_count\n",
      "P02666\n",
      "P02662\n",
      "P02668\n",
      "P02754\n",
      "B5B3R8\n",
      "P00711\n",
      "P02663\n",
      "B9VPZ5\n",
      "P24627\n",
      "G9G9X6\n",
      "P80457\n",
      "P81265\n",
      "P18892\n",
      "Q95114\n",
      "Q19KS1\n",
      "P80025\n",
      "P80195\n",
      "Q9BDG3\n",
      "P11151\n",
      "P31096\n",
      "P10152\n",
      "Q58DP6\n",
      "P02702\n"
     ]
    },
    {
     "output_type": "stream",
     "name": "stderr",
     "text": [
      "127.0.0.1 - - [05/Oct/2021 14:59:17] \"\u001b[37mPOST /_dash-update-component HTTP/1.1\u001b[0m\" 200 -\n"
     ]
    },
    {
     "output_type": "stream",
     "name": "stdout",
     "text": [
      "protein_total_mod_count\n",
      "10\n",
      "normalization: protein_total_mod_count\n",
      "norm is: protein_total_mod_count\n",
      "P02666\n",
      "P02662\n",
      "P02668\n",
      "P02754\n",
      "B5B3R8\n",
      "P00711\n",
      "P02663\n",
      "B9VPZ5\n",
      "P24627\n",
      "G9G9X6\n",
      "P80457\n",
      "P81265\n",
      "P18892\n",
      "Q95114\n",
      "Q19KS1\n",
      "P80025\n",
      "P80195\n",
      "Q9BDG3\n",
      "P11151\n",
      "P31096\n",
      "P10152\n",
      "Q58DP6\n",
      "P02702\n"
     ]
    },
    {
     "output_type": "stream",
     "name": "stderr",
     "text": [
      "127.0.0.1 - - [05/Oct/2021 14:59:21] \"\u001b[37mPOST /_dash-update-component HTTP/1.1\u001b[0m\" 200 -\n"
     ]
    },
    {
     "output_type": "stream",
     "name": "stdout",
     "text": [
      "protein_total_mod_count\n",
      "640\n",
      "normalization: protein_total_mod_count\n",
      "norm is: protein_total_mod_count\n",
      "P02666\n",
      "P02662\n",
      "P02754\n",
      "B5B3R8\n",
      "protein_length\n",
      "640\n",
      "normalization: protein_length\n",
      "norm is: protein_length\n"
     ]
    },
    {
     "output_type": "stream",
     "name": "stderr",
     "text": [
      "127.0.0.1 - - [05/Oct/2021 14:59:26] \"\u001b[37mPOST /_dash-update-component HTTP/1.1\u001b[0m\" 200 -\n",
      "127.0.0.1 - - [05/Oct/2021 14:59:29] \"\u001b[37mPOST /_dash-update-component HTTP/1.1\u001b[0m\" 200 -\n"
     ]
    },
    {
     "output_type": "stream",
     "name": "stdout",
     "text": [
      "protein_total_mod_count\n",
      "640\n",
      "normalization: protein_total_mod_count\n",
      "norm is: protein_total_mod_count\n",
      "P02666\n",
      "P02662\n",
      "P02754\n",
      "B5B3R8\n",
      "protein_length\n",
      "640\n",
      "normalization: protein_length\n",
      "norm is: protein_length\n"
     ]
    },
    {
     "output_type": "stream",
     "name": "stderr",
     "text": [
      "127.0.0.1 - - [05/Oct/2021 15:00:08] \"\u001b[37mPOST /_dash-update-component HTTP/1.1\u001b[0m\" 200 -\n"
     ]
    },
    {
     "output_type": "stream",
     "name": "stdout",
     "text": [
      "protein_length\n",
      "40\n",
      "normalization: protein_length\n",
      "norm is: protein_length\n"
     ]
    },
    {
     "output_type": "stream",
     "name": "stderr",
     "text": [
      "127.0.0.1 - - [05/Oct/2021 15:00:12] \"\u001b[37mPOST /_dash-update-component HTTP/1.1\u001b[0m\" 200 -\n"
     ]
    },
    {
     "output_type": "stream",
     "name": "stdout",
     "text": [
      "protein_length\n",
      "40\n",
      "normalization: protein_length\n",
      "norm is: protein_length\n"
     ]
    },
    {
     "output_type": "stream",
     "name": "stderr",
     "text": [
      "127.0.0.1 - - [05/Oct/2021 15:02:25] \"\u001b[37mPOST /_dash-update-component HTTP/1.1\u001b[0m\" 200 -\n"
     ]
    },
    {
     "output_type": "stream",
     "name": "stdout",
     "text": [
      "protein_total_mod_count\n",
      "40\n",
      "normalization: protein_total_mod_count\n",
      "norm is: protein_total_mod_count\n",
      "P02666\n",
      "P02662\n",
      "P02668\n",
      "P02754\n",
      "B5B3R8\n",
      "P00711\n",
      "P02663\n",
      "B9VPZ5\n",
      "P24627\n",
      "G9G9X6\n",
      "P80457\n",
      "P81265\n",
      "Q19KS1\n",
      "P80195\n",
      "Q9BDG3\n",
      "P31096\n"
     ]
    },
    {
     "output_type": "stream",
     "name": "stderr",
     "text": [
      "127.0.0.1 - - [05/Oct/2021 15:02:27] \"\u001b[37mPOST /_dash-update-component HTTP/1.1\u001b[0m\" 200 -\n",
      "127.0.0.1 - - [05/Oct/2021 15:02:53] \"\u001b[37mPOST /_dash-update-component HTTP/1.1\u001b[0m\" 200 -\n"
     ]
    },
    {
     "output_type": "stream",
     "name": "stdout",
     "text": [
      "\n",
      "40\n",
      "normalization: \n",
      "norm is: no normalization\n"
     ]
    },
    {
     "output_type": "stream",
     "name": "stderr",
     "text": [
      "127.0.0.1 - - [05/Oct/2021 15:02:57] \"\u001b[37mPOST /_dash-update-component HTTP/1.1\u001b[0m\" 200 -\n"
     ]
    },
    {
     "output_type": "stream",
     "name": "stdout",
     "text": [
      "\n",
      "40\n",
      "normalization: \n",
      "norm is: no normalization\n"
     ]
    },
    {
     "output_type": "stream",
     "name": "stderr",
     "text": [
      "127.0.0.1 - - [05/Oct/2021 15:03:06] \"\u001b[37mPOST /_dash-update-component HTTP/1.1\u001b[0m\" 200 -\n"
     ]
    },
    {
     "output_type": "stream",
     "name": "stdout",
     "text": [
      "\n",
      "10\n",
      "normalization: \n",
      "norm is: no normalization\n"
     ]
    },
    {
     "output_type": "stream",
     "name": "stderr",
     "text": [
      "127.0.0.1 - - [05/Oct/2021 15:03:08] \"\u001b[37mPOST /_dash-update-component HTTP/1.1\u001b[0m\" 200 -\n"
     ]
    },
    {
     "output_type": "stream",
     "name": "stdout",
     "text": [
      "\n",
      "320\n",
      "normalization: \n",
      "norm is: no normalization\n"
     ]
    },
    {
     "output_type": "stream",
     "name": "stderr",
     "text": [
      "127.0.0.1 - - [05/Oct/2021 15:03:11] \"\u001b[37mPOST /_dash-update-component HTTP/1.1\u001b[0m\" 200 -\n"
     ]
    },
    {
     "output_type": "stream",
     "name": "stdout",
     "text": [
      "protein_total_mod_count\n",
      "320\n",
      "normalization: protein_total_mod_count\n",
      "norm is: protein_total_mod_count\n",
      "P02666\n",
      "P02662\n",
      "P02668\n",
      "P02754\n",
      "B5B3R8\n",
      "P02663\n"
     ]
    },
    {
     "output_type": "stream",
     "name": "stderr",
     "text": [
      "127.0.0.1 - - [05/Oct/2021 15:03:13] \"\u001b[37mPOST /_dash-update-component HTTP/1.1\u001b[0m\" 200 -\n"
     ]
    },
    {
     "output_type": "stream",
     "name": "stdout",
     "text": [
      "protein_total_mod_count\n",
      "320\n",
      "normalization: protein_total_mod_count\n",
      "norm is: protein_total_mod_count\n",
      "P02666\n",
      "P02662\n",
      "P02668\n",
      "P02754\n",
      "B5B3R8\n",
      "P02663\n"
     ]
    },
    {
     "output_type": "stream",
     "name": "stderr",
     "text": [
      "127.0.0.1 - - [05/Oct/2021 15:03:16] \"\u001b[37mPOST /_dash-update-component HTTP/1.1\u001b[0m\" 200 -\n"
     ]
    },
    {
     "output_type": "stream",
     "name": "stdout",
     "text": [
      "protein_total_mod_count\n",
      "80\n",
      "normalization: protein_total_mod_count\n",
      "norm is: protein_total_mod_count\n",
      "P02666\n",
      "P02662\n",
      "P02668\n",
      "P02754\n",
      "B5B3R8\n",
      "P00711\n",
      "P02663\n",
      "B9VPZ5\n",
      "P24627\n",
      "G9G9X6\n"
     ]
    },
    {
     "output_type": "stream",
     "name": "stderr",
     "text": [
      "127.0.0.1 - - [05/Oct/2021 15:03:18] \"\u001b[37mPOST /_dash-update-component HTTP/1.1\u001b[0m\" 200 -\n"
     ]
    },
    {
     "output_type": "stream",
     "name": "stdout",
     "text": [
      "protein_total_mod_count\n",
      "20\n",
      "normalization: protein_total_mod_count\n",
      "norm is: protein_total_mod_count\n",
      "P02666\n",
      "P02662\n",
      "P02668\n",
      "P02754\n",
      "B5B3R8\n",
      "P00711\n",
      "P02663\n",
      "B9VPZ5\n",
      "P24627\n",
      "G9G9X6\n",
      "P80457\n",
      "P81265\n",
      "P18892\n",
      "Q95114\n",
      "Q19KS1\n",
      "P80025\n",
      "P80195\n",
      "Q9BDG3\n",
      "P31096\n"
     ]
    },
    {
     "output_type": "stream",
     "name": "stderr",
     "text": [
      "127.0.0.1 - - [05/Oct/2021 15:03:23] \"\u001b[37mPOST /_dash-update-component HTTP/1.1\u001b[0m\" 200 -\n"
     ]
    },
    {
     "output_type": "stream",
     "name": "stdout",
     "text": [
      "protein_total_mod_count\n",
      "10\n",
      "normalization: protein_total_mod_count\n",
      "norm is: protein_total_mod_count\n",
      "P02666\n",
      "P02662\n",
      "P02668\n",
      "P02754\n",
      "B5B3R8\n",
      "P00711\n",
      "P02663\n",
      "B9VPZ5\n",
      "P24627\n",
      "G9G9X6\n",
      "P80457\n",
      "P81265\n",
      "P18892\n",
      "Q95114\n",
      "Q19KS1\n",
      "P80025\n",
      "P80195\n",
      "Q9BDG3\n",
      "P11151\n",
      "P31096\n",
      "P10152\n",
      "Q58DP6\n",
      "P02702\n",
      "protein_length\n",
      "10\n",
      "normalization: protein_length\n",
      "norm is: protein_length\n"
     ]
    },
    {
     "output_type": "stream",
     "name": "stderr",
     "text": [
      "127.0.0.1 - - [05/Oct/2021 15:03:38] \"\u001b[37mPOST /_dash-update-component HTTP/1.1\u001b[0m\" 200 -\n",
      "127.0.0.1 - - [05/Oct/2021 15:27:31] \"\u001b[37mGET / HTTP/1.1\u001b[0m\" 200 -\n",
      "127.0.0.1 - - [05/Oct/2021 15:27:32] \"\u001b[37mGET /_dash-component-suites/dash/deps/polyfill@7.v2_0_0m1633432702.12.1.min.js HTTP/1.1\u001b[0m\" 200 -\n",
      "127.0.0.1 - - [05/Oct/2021 15:27:32] \"\u001b[37mGET /_dash-component-suites/dash/deps/react-dom@16.v2_0_0m1633432702.14.0.min.js HTTP/1.1\u001b[0m\" 200 -\n",
      "127.0.0.1 - - [05/Oct/2021 15:27:32] \"\u001b[37mGET /_dash-component-suites/dash/deps/react@16.v2_0_0m1633432702.14.0.min.js HTTP/1.1\u001b[0m\" 200 -\n",
      "127.0.0.1 - - [05/Oct/2021 15:27:32] \"\u001b[37mGET /_dash-component-suites/dash/deps/prop-types@15.v2_0_0m1633432702.7.2.min.js HTTP/1.1\u001b[0m\" 200 -\n",
      "127.0.0.1 - - [05/Oct/2021 15:27:32] \"\u001b[37mGET /_dash-component-suites/dash/dash-renderer/build/dash_renderer.v2_0_0m1633432702.min.js HTTP/1.1\u001b[0m\" 200 -\n",
      "127.0.0.1 - - [05/Oct/2021 15:27:32] \"\u001b[37mGET /_dash-component-suites/dash/dcc/dash_core_components.v2_0_0m1633432702.js HTTP/1.1\u001b[0m\" 200 -\n",
      "127.0.0.1 - - [05/Oct/2021 15:27:32] \"\u001b[37mGET /_dash-component-suites/dash/html/dash_html_components.v2_0_0m1633432702.min.js HTTP/1.1\u001b[0m\" 200 -\n",
      "127.0.0.1 - - [05/Oct/2021 15:27:32] \"\u001b[37mGET /_dash-component-suites/dash/dcc/dash_core_components-shared.v2_0_0m1633432702.js HTTP/1.1\u001b[0m\" 200 -\n",
      "127.0.0.1 - - [05/Oct/2021 15:27:32] \"\u001b[37mGET /_dash-component-suites/dash/dash_table/bundle.v5_0_0m1633432702.js HTTP/1.1\u001b[0m\" 200 -\n",
      "127.0.0.1 - - [05/Oct/2021 15:27:32] \"\u001b[37mGET /_dash-layout HTTP/1.1\u001b[0m\" 200 -\n",
      "127.0.0.1 - - [05/Oct/2021 15:27:32] \"\u001b[37mGET /_dash-dependencies HTTP/1.1\u001b[0m\" 200 -\n",
      "127.0.0.1 - - [05/Oct/2021 15:27:32] \"\u001b[37mGET /_favicon.ico?v=2.0.0 HTTP/1.1\u001b[0m\" 200 -\n",
      "127.0.0.1 - - [05/Oct/2021 15:27:32] \"\u001b[36mGET /_dash-component-suites/dash/dcc/async-dropdown.js HTTP/1.1\u001b[0m\" 304 -\n",
      "127.0.0.1 - - [05/Oct/2021 15:27:32] \"\u001b[36mGET /_dash-component-suites/dash/dcc/async-plotlyjs.js HTTP/1.1\u001b[0m\" 304 -\n",
      "127.0.0.1 - - [05/Oct/2021 15:27:32] \"\u001b[36mGET /_dash-component-suites/dash/dcc/async-graph.js HTTP/1.1\u001b[0m\" 304 -\n",
      "127.0.0.1 - - [05/Oct/2021 15:27:32] \"\u001b[37mPOST /_dash-update-component HTTP/1.1\u001b[0m\" 200 -\n"
     ]
    },
    {
     "output_type": "stream",
     "name": "stdout",
     "text": [
      "\n",
      "80\n",
      "normalization: \n",
      "norm is: no normalization\n"
     ]
    },
    {
     "output_type": "stream",
     "name": "stderr",
     "text": [
      "127.0.0.1 - - [05/Oct/2021 15:27:34] \"\u001b[37mPOST /_dash-update-component HTTP/1.1\u001b[0m\" 200 -\n"
     ]
    },
    {
     "output_type": "stream",
     "name": "stdout",
     "text": [
      "\n",
      "80\n",
      "normalization: \n",
      "norm is: no normalization\n"
     ]
    },
    {
     "output_type": "stream",
     "name": "stderr",
     "text": [
      "127.0.0.1 - - [05/Oct/2021 15:27:36] \"\u001b[37mPOST /_dash-update-component HTTP/1.1\u001b[0m\" 200 -\n"
     ]
    },
    {
     "output_type": "stream",
     "name": "stdout",
     "text": [
      "\n",
      "80\n",
      "normalization: \n",
      "norm is: no normalization\n"
     ]
    },
    {
     "output_type": "stream",
     "name": "stderr",
     "text": [
      "127.0.0.1 - - [05/Oct/2021 15:27:52] \"\u001b[37mPOST /_dash-update-component HTTP/1.1\u001b[0m\" 200 -\n"
     ]
    },
    {
     "output_type": "stream",
     "name": "stdout",
     "text": [
      "\n",
      "20\n",
      "normalization: \n",
      "norm is: no normalization\n"
     ]
    },
    {
     "output_type": "stream",
     "name": "stderr",
     "text": [
      "127.0.0.1 - - [05/Oct/2021 15:27:55] \"\u001b[37mPOST /_dash-update-component HTTP/1.1\u001b[0m\" 200 -\n"
     ]
    },
    {
     "output_type": "stream",
     "name": "stdout",
     "text": [
      "\n",
      "640\n",
      "normalization: \n",
      "norm is: no normalization\n"
     ]
    },
    {
     "output_type": "stream",
     "name": "stderr",
     "text": [
      "127.0.0.1 - - [05/Oct/2021 15:27:56] \"\u001b[37mPOST /_dash-update-component HTTP/1.1\u001b[0m\" 200 -\n"
     ]
    },
    {
     "output_type": "stream",
     "name": "stdout",
     "text": [
      "\n",
      "80\n",
      "normalization: \n",
      "norm is: no normalization\n"
     ]
    },
    {
     "output_type": "stream",
     "name": "stderr",
     "text": [
      "127.0.0.1 - - [05/Oct/2021 15:29:16] \"\u001b[37mPOST /_dash-update-component HTTP/1.1\u001b[0m\" 200 -\n"
     ]
    },
    {
     "output_type": "stream",
     "name": "stdout",
     "text": [
      "protein_total_mod_count\n",
      "80\n",
      "normalization: protein_total_mod_count\n",
      "norm is: protein_total_mod_count\n",
      "P02666\n",
      "P02662\n",
      "P02668\n",
      "P02754\n",
      "B5B3R8\n",
      "P00711\n",
      "P02663\n",
      "B9VPZ5\n",
      "P24627\n",
      "G9G9X6\n",
      "protein_length\n",
      "80\n",
      "normalization: protein_length\n",
      "norm is: protein_length\n"
     ]
    },
    {
     "output_type": "stream",
     "name": "stderr",
     "text": [
      "127.0.0.1 - - [05/Oct/2021 15:29:21] \"\u001b[37mPOST /_dash-update-component HTTP/1.1\u001b[0m\" 200 -\n",
      "127.0.0.1 - - [05/Oct/2021 15:29:22] \"\u001b[37mPOST /_dash-update-component HTTP/1.1\u001b[0m\" 200 -\n"
     ]
    },
    {
     "output_type": "stream",
     "name": "stdout",
     "text": [
      "protein_total_mod_count\n",
      "80\n",
      "normalization: protein_total_mod_count\n",
      "norm is: protein_total_mod_count\n",
      "P02666\n",
      "P02662\n",
      "P02668\n",
      "P02754\n",
      "B5B3R8\n",
      "P00711\n",
      "P02663\n",
      "B9VPZ5\n",
      "P24627\n",
      "G9G9X6\n"
     ]
    },
    {
     "output_type": "stream",
     "name": "stderr",
     "text": [
      "127.0.0.1 - - [05/Oct/2021 15:29:23] \"\u001b[37mPOST /_dash-update-component HTTP/1.1\u001b[0m\" 200 -\n"
     ]
    },
    {
     "output_type": "stream",
     "name": "stdout",
     "text": [
      "protein_total_mod_count\n",
      "10\n",
      "normalization: protein_total_mod_count\n",
      "norm is: protein_total_mod_count\n",
      "P02666\n",
      "P02662\n",
      "P02668\n",
      "P02754\n",
      "B5B3R8\n",
      "P00711\n",
      "P02663\n",
      "B9VPZ5\n",
      "P24627\n",
      "G9G9X6\n",
      "P80457\n",
      "P81265\n",
      "P18892\n",
      "Q95114\n",
      "Q19KS1\n",
      "P80025\n",
      "P80195\n",
      "Q9BDG3\n",
      "P11151\n",
      "P31096\n",
      "P10152\n",
      "Q58DP6\n",
      "P02702\n"
     ]
    },
    {
     "output_type": "stream",
     "name": "stderr",
     "text": [
      "127.0.0.1 - - [05/Oct/2021 15:29:25] \"\u001b[37mPOST /_dash-update-component HTTP/1.1\u001b[0m\" 200 -\n"
     ]
    },
    {
     "output_type": "stream",
     "name": "stdout",
     "text": [
      "protein_total_mod_count\n",
      "10\n",
      "normalization: protein_total_mod_count\n",
      "norm is: protein_total_mod_count\n",
      "P02666\n",
      "P02662\n",
      "P02668\n",
      "P02754\n",
      "B5B3R8\n",
      "P00711\n",
      "P02663\n",
      "B9VPZ5\n",
      "P24627\n",
      "G9G9X6\n",
      "P80457\n",
      "P81265\n",
      "P18892\n",
      "Q95114\n",
      "Q19KS1\n",
      "P80025\n",
      "P80195\n",
      "Q9BDG3\n",
      "P11151\n",
      "P31096\n",
      "P10152\n",
      "Q58DP6\n",
      "P02702\n"
     ]
    },
    {
     "output_type": "stream",
     "name": "stderr",
     "text": [
      "127.0.0.1 - - [05/Oct/2021 15:29:29] \"\u001b[37mPOST /_dash-update-component HTTP/1.1\u001b[0m\" 200 -\n"
     ]
    },
    {
     "output_type": "stream",
     "name": "stdout",
     "text": [
      "protein_total_mod_count\n",
      "10\n",
      "normalization: protein_total_mod_count\n",
      "norm is: protein_total_mod_count\n",
      "P02666\n",
      "P02662\n",
      "P02668\n",
      "P02754\n",
      "B5B3R8\n",
      "P00711\n",
      "P02663\n",
      "B9VPZ5\n",
      "P24627\n",
      "G9G9X6\n",
      "P80457\n",
      "P81265\n",
      "P18892\n",
      "Q95114\n",
      "Q19KS1\n",
      "P80025\n",
      "P80195\n",
      "Q9BDG3\n",
      "P11151\n",
      "P31096\n",
      "P10152\n",
      "Q58DP6\n",
      "P02702\n"
     ]
    },
    {
     "output_type": "stream",
     "name": "stderr",
     "text": [
      "127.0.0.1 - - [05/Oct/2021 15:29:31] \"\u001b[37mPOST /_dash-update-component HTTP/1.1\u001b[0m\" 200 -\n"
     ]
    },
    {
     "output_type": "stream",
     "name": "stdout",
     "text": [
      "protein_total_mod_count\n",
      "20\n",
      "normalization: protein_total_mod_count\n",
      "norm is: protein_total_mod_count\n",
      "P02666\n",
      "P02662\n",
      "P02668\n",
      "P02754\n",
      "B5B3R8\n",
      "P00711\n",
      "P02663\n",
      "B9VPZ5\n",
      "P24627\n",
      "G9G9X6\n",
      "P80457\n",
      "P81265\n",
      "P18892\n",
      "Q95114\n",
      "Q19KS1\n",
      "P80025\n",
      "P80195\n",
      "Q9BDG3\n",
      "P31096\n"
     ]
    },
    {
     "output_type": "stream",
     "name": "stderr",
     "text": [
      "127.0.0.1 - - [05/Oct/2021 15:29:33] \"\u001b[37mPOST /_dash-update-component HTTP/1.1\u001b[0m\" 200 -\n"
     ]
    },
    {
     "output_type": "stream",
     "name": "stdout",
     "text": [
      "protein_total_mod_count\n",
      "40\n",
      "normalization: protein_total_mod_count\n",
      "norm is: protein_total_mod_count\n",
      "P02666\n",
      "P02662\n",
      "P02668\n",
      "P02754\n",
      "B5B3R8\n",
      "P00711\n",
      "P02663\n",
      "B9VPZ5\n",
      "P24627\n",
      "G9G9X6\n",
      "P80457\n",
      "P81265\n",
      "Q19KS1\n",
      "P80195\n",
      "Q9BDG3\n",
      "P31096\n",
      "protein_length\n",
      "40\n",
      "normalization: protein_length\n",
      "norm is: protein_length\n"
     ]
    },
    {
     "output_type": "stream",
     "name": "stderr",
     "text": [
      "127.0.0.1 - - [05/Oct/2021 15:29:43] \"\u001b[37mPOST /_dash-update-component HTTP/1.1\u001b[0m\" 200 -\n"
     ]
    },
    {
     "output_type": "stream",
     "name": "stdout",
     "text": [
      "protein_mass\n",
      "40\n",
      "normalization: protein_mass\n",
      "norm is: protein_mass\n",
      "protein_mass\n",
      "40\n",
      "normalization: protein_mass\n",
      "norm is: protein_mass\n"
     ]
    },
    {
     "output_type": "stream",
     "name": "stderr",
     "text": [
      "127.0.0.1 - - [05/Oct/2021 15:30:38] \"\u001b[37mPOST /_dash-update-component HTTP/1.1\u001b[0m\" 200 -\n",
      "127.0.0.1 - - [05/Oct/2021 15:30:43] \"\u001b[37mPOST /_dash-update-component HTTP/1.1\u001b[0m\" 200 -\n"
     ]
    },
    {
     "output_type": "stream",
     "name": "stdout",
     "text": [
      "protein_mass\n",
      "40\n",
      "normalization: protein_mass\n",
      "norm is: protein_mass\n"
     ]
    },
    {
     "output_type": "stream",
     "name": "stderr",
     "text": [
      "127.0.0.1 - - [05/Oct/2021 15:31:37] \"\u001b[37mPOST /_dash-update-component HTTP/1.1\u001b[0m\" 200 -\n"
     ]
    },
    {
     "output_type": "stream",
     "name": "stdout",
     "text": [
      "protein_mass\n",
      "40\n",
      "normalization: protein_mass\n",
      "norm is: protein_mass\n"
     ]
    },
    {
     "output_type": "stream",
     "name": "stderr",
     "text": [
      "127.0.0.1 - - [05/Oct/2021 15:31:45] \"\u001b[37mPOST /_dash-update-component HTTP/1.1\u001b[0m\" 200 -\n",
      "127.0.0.1 - - [05/Oct/2021 15:40:40] \"\u001b[37mPOST /_dash-update-component HTTP/1.1\u001b[0m\" 200 -\n"
     ]
    },
    {
     "output_type": "stream",
     "name": "stdout",
     "text": [
      "\n",
      "40\n",
      "normalization: \n",
      "norm is: no normalization\n"
     ]
    },
    {
     "output_type": "stream",
     "name": "stderr",
     "text": [
      "127.0.0.1 - - [05/Oct/2021 15:40:42] \"\u001b[37mPOST /_dash-update-component HTTP/1.1\u001b[0m\" 200 -\n"
     ]
    },
    {
     "output_type": "stream",
     "name": "stdout",
     "text": [
      "\n",
      "10\n",
      "normalization: \n",
      "norm is: no normalization\n"
     ]
    },
    {
     "output_type": "stream",
     "name": "stderr",
     "text": [
      "127.0.0.1 - - [05/Oct/2021 15:40:47] \"\u001b[37mPOST /_dash-update-component HTTP/1.1\u001b[0m\" 200 -\n"
     ]
    },
    {
     "output_type": "stream",
     "name": "stdout",
     "text": [
      "\n",
      "10\n",
      "normalization: \n",
      "norm is: no normalization\n"
     ]
    },
    {
     "output_type": "stream",
     "name": "stderr",
     "text": [
      "127.0.0.1 - - [05/Oct/2021 15:40:53] \"\u001b[37mPOST /_dash-update-component HTTP/1.1\u001b[0m\" 200 -\n"
     ]
    },
    {
     "output_type": "stream",
     "name": "stdout",
     "text": [
      "\n",
      "10\n",
      "normalization: \n",
      "norm is: no normalization\n"
     ]
    },
    {
     "output_type": "stream",
     "name": "stderr",
     "text": [
      "127.0.0.1 - - [05/Oct/2021 15:40:55] \"\u001b[37mPOST /_dash-update-component HTTP/1.1\u001b[0m\" 200 -\n"
     ]
    },
    {
     "output_type": "stream",
     "name": "stdout",
     "text": [
      "\n",
      "10\n",
      "normalization: \n",
      "norm is: no normalization\n"
     ]
    },
    {
     "output_type": "stream",
     "name": "stderr",
     "text": [
      "127.0.0.1 - - [05/Oct/2021 15:40:57] \"\u001b[37mPOST /_dash-update-component HTTP/1.1\u001b[0m\" 200 -\n"
     ]
    },
    {
     "output_type": "stream",
     "name": "stdout",
     "text": [
      "\n",
      "10\n",
      "normalization: \n",
      "norm is: no normalization\n"
     ]
    },
    {
     "output_type": "stream",
     "name": "stderr",
     "text": [
      "127.0.0.1 - - [05/Oct/2021 15:41:00] \"\u001b[37mPOST /_dash-update-component HTTP/1.1\u001b[0m\" 200 -\n"
     ]
    },
    {
     "output_type": "stream",
     "name": "stdout",
     "text": [
      "\n",
      "640\n",
      "normalization: \n",
      "norm is: no normalization\n"
     ]
    },
    {
     "output_type": "stream",
     "name": "stderr",
     "text": [
      "127.0.0.1 - - [05/Oct/2021 15:41:04] \"\u001b[37mPOST /_dash-update-component HTTP/1.1\u001b[0m\" 200 -\n"
     ]
    },
    {
     "output_type": "stream",
     "name": "stdout",
     "text": [
      "\n",
      "640\n",
      "normalization: \n",
      "norm is: no normalization\n"
     ]
    },
    {
     "output_type": "stream",
     "name": "stderr",
     "text": [
      "127.0.0.1 - - [05/Oct/2021 15:41:06] \"\u001b[37mPOST /_dash-update-component HTTP/1.1\u001b[0m\" 200 -\n"
     ]
    },
    {
     "output_type": "stream",
     "name": "stdout",
     "text": [
      "\n",
      "640\n",
      "normalization: \n",
      "norm is: no normalization\n"
     ]
    },
    {
     "output_type": "stream",
     "name": "stderr",
     "text": [
      "127.0.0.1 - - [05/Oct/2021 15:41:07] \"\u001b[37mPOST /_dash-update-component HTTP/1.1\u001b[0m\" 200 -\n"
     ]
    },
    {
     "output_type": "stream",
     "name": "stdout",
     "text": [
      "\n",
      "640\n",
      "normalization: \n",
      "norm is: no normalization\n"
     ]
    },
    {
     "output_type": "stream",
     "name": "stderr",
     "text": [
      "127.0.0.1 - - [05/Oct/2021 15:41:08] \"\u001b[37mPOST /_dash-update-component HTTP/1.1\u001b[0m\" 200 -\n"
     ]
    },
    {
     "output_type": "stream",
     "name": "stdout",
     "text": [
      "\n",
      "640\n",
      "normalization: \n",
      "norm is: no normalization\n"
     ]
    },
    {
     "output_type": "stream",
     "name": "stderr",
     "text": [
      "127.0.0.1 - - [05/Oct/2021 15:41:10] \"\u001b[37mPOST /_dash-update-component HTTP/1.1\u001b[0m\" 200 -\n"
     ]
    },
    {
     "output_type": "stream",
     "name": "stdout",
     "text": [
      "\n",
      "640\n",
      "normalization: \n",
      "norm is: no normalization\n"
     ]
    },
    {
     "output_type": "stream",
     "name": "stderr",
     "text": [
      "127.0.0.1 - - [05/Oct/2021 15:41:11] \"\u001b[37mPOST /_dash-update-component HTTP/1.1\u001b[0m\" 200 -\n"
     ]
    },
    {
     "output_type": "stream",
     "name": "stdout",
     "text": [
      "\n",
      "640\n",
      "normalization: \n",
      "norm is: no normalization\n"
     ]
    },
    {
     "output_type": "stream",
     "name": "stderr",
     "text": [
      "127.0.0.1 - - [05/Oct/2021 15:41:13] \"\u001b[37mPOST /_dash-update-component HTTP/1.1\u001b[0m\" 200 -\n"
     ]
    },
    {
     "output_type": "stream",
     "name": "stdout",
     "text": [
      "\n",
      "640\n",
      "normalization: \n",
      "norm is: no normalization\n"
     ]
    },
    {
     "output_type": "stream",
     "name": "stderr",
     "text": [
      "127.0.0.1 - - [05/Oct/2021 15:41:15] \"\u001b[37mPOST /_dash-update-component HTTP/1.1\u001b[0m\" 200 -\n"
     ]
    },
    {
     "output_type": "stream",
     "name": "stdout",
     "text": [
      "\n",
      "640\n",
      "normalization: \n",
      "norm is: no normalization\n"
     ]
    },
    {
     "output_type": "stream",
     "name": "stderr",
     "text": [
      "127.0.0.1 - - [05/Oct/2021 15:41:16] \"\u001b[37mPOST /_dash-update-component HTTP/1.1\u001b[0m\" 200 -\n"
     ]
    },
    {
     "output_type": "stream",
     "name": "stdout",
     "text": [
      "\n",
      "640\n",
      "normalization: \n",
      "norm is: no normalization\n"
     ]
    },
    {
     "output_type": "stream",
     "name": "stderr",
     "text": [
      "127.0.0.1 - - [05/Oct/2021 15:41:18] \"\u001b[37mPOST /_dash-update-component HTTP/1.1\u001b[0m\" 200 -\n"
     ]
    },
    {
     "output_type": "stream",
     "name": "stdout",
     "text": [
      "\n",
      "640\n",
      "normalization: \n",
      "norm is: no normalization\n"
     ]
    },
    {
     "output_type": "stream",
     "name": "stderr",
     "text": [
      "127.0.0.1 - - [05/Oct/2021 15:41:20] \"\u001b[37mPOST /_dash-update-component HTTP/1.1\u001b[0m\" 200 -\n"
     ]
    },
    {
     "output_type": "stream",
     "name": "stdout",
     "text": [
      "\n",
      "640\n",
      "normalization: \n",
      "norm is: no normalization\n"
     ]
    },
    {
     "output_type": "stream",
     "name": "stderr",
     "text": [
      "127.0.0.1 - - [05/Oct/2021 15:41:21] \"\u001b[37mPOST /_dash-update-component HTTP/1.1\u001b[0m\" 200 -\n"
     ]
    },
    {
     "output_type": "stream",
     "name": "stdout",
     "text": [
      "\n",
      "20\n",
      "normalization: \n",
      "norm is: no normalization\n"
     ]
    },
    {
     "output_type": "stream",
     "name": "stderr",
     "text": [
      "127.0.0.1 - - [05/Oct/2021 15:41:24] \"\u001b[37mPOST /_dash-update-component HTTP/1.1\u001b[0m\" 200 -\n"
     ]
    },
    {
     "output_type": "stream",
     "name": "stdout",
     "text": [
      "\n",
      "20\n",
      "normalization: \n",
      "norm is: no normalization\n"
     ]
    },
    {
     "output_type": "stream",
     "name": "stderr",
     "text": [
      "127.0.0.1 - - [05/Oct/2021 15:41:26] \"\u001b[37mPOST /_dash-update-component HTTP/1.1\u001b[0m\" 200 -\n"
     ]
    },
    {
     "output_type": "stream",
     "name": "stdout",
     "text": [
      "\n",
      "10\n",
      "normalization: \n",
      "norm is: no normalization\n"
     ]
    },
    {
     "output_type": "stream",
     "name": "stderr",
     "text": [
      "127.0.0.1 - - [05/Oct/2021 15:41:30] \"\u001b[37mPOST /_dash-update-component HTTP/1.1\u001b[0m\" 200 -\n"
     ]
    },
    {
     "output_type": "stream",
     "name": "stdout",
     "text": [
      "\n",
      "640\n",
      "normalization: \n",
      "norm is: no normalization\n"
     ]
    },
    {
     "output_type": "stream",
     "name": "stderr",
     "text": [
      "127.0.0.1 - - [05/Oct/2021 15:41:34] \"\u001b[37mPOST /_dash-update-component HTTP/1.1\u001b[0m\" 200 -\n"
     ]
    },
    {
     "output_type": "stream",
     "name": "stdout",
     "text": [
      "protein_total_mod_count\n",
      "640\n",
      "normalization: protein_total_mod_count\n",
      "norm is: protein_total_mod_count\n",
      "P02666\n",
      "P02662\n",
      "P02754\n",
      "B5B3R8\n",
      "protein_length\n",
      "640\n",
      "normalization: protein_length\n",
      "norm is: protein_length\n"
     ]
    },
    {
     "output_type": "stream",
     "name": "stderr",
     "text": [
      "127.0.0.1 - - [05/Oct/2021 15:41:38] \"\u001b[37mPOST /_dash-update-component HTTP/1.1\u001b[0m\" 200 -\n"
     ]
    },
    {
     "output_type": "stream",
     "name": "stdout",
     "text": [
      "protein_length\n",
      "320\n",
      "normalization: protein_length\n",
      "norm is: protein_length\n"
     ]
    },
    {
     "output_type": "stream",
     "name": "stderr",
     "text": [
      "127.0.0.1 - - [05/Oct/2021 15:41:43] \"\u001b[37mPOST /_dash-update-component HTTP/1.1\u001b[0m\" 200 -\n"
     ]
    },
    {
     "output_type": "stream",
     "name": "stdout",
     "text": [
      "protein_length\n",
      "160\n",
      "normalization: protein_length\n",
      "norm is: protein_length\n"
     ]
    },
    {
     "output_type": "stream",
     "name": "stderr",
     "text": [
      "127.0.0.1 - - [05/Oct/2021 15:41:57] \"\u001b[37mPOST /_dash-update-component HTTP/1.1\u001b[0m\" 200 -\n"
     ]
    },
    {
     "output_type": "stream",
     "name": "stdout",
     "text": [
      "protein_length\n",
      "10\n",
      "normalization: protein_length\n",
      "norm is: protein_length\n"
     ]
    },
    {
     "output_type": "stream",
     "name": "stderr",
     "text": [
      "127.0.0.1 - - [05/Oct/2021 15:42:28] \"\u001b[37mPOST /_dash-update-component HTTP/1.1\u001b[0m\" 200 -\n",
      "127.0.0.1 - - [05/Oct/2021 15:42:38] \"\u001b[37mPOST /_dash-update-component HTTP/1.1\u001b[0m\" 200 -\n"
     ]
    },
    {
     "output_type": "stream",
     "name": "stdout",
     "text": [
      "protein_total_mod_count\n",
      "10\n",
      "normalization: protein_total_mod_count\n",
      "norm is: protein_total_mod_count\n",
      "P02666\n",
      "P02662\n",
      "P02668\n",
      "P02754\n",
      "B5B3R8\n",
      "P00711\n",
      "P02663\n",
      "B9VPZ5\n",
      "P24627\n",
      "G9G9X6\n",
      "P80457\n",
      "P81265\n",
      "P18892\n",
      "Q95114\n",
      "Q19KS1\n",
      "P80025\n",
      "P80195\n",
      "Q9BDG3\n",
      "P11151\n",
      "P31096\n",
      "P10152\n",
      "Q58DP6\n",
      "P02702\n"
     ]
    },
    {
     "output_type": "stream",
     "name": "stderr",
     "text": [
      "127.0.0.1 - - [05/Oct/2021 15:42:40] \"\u001b[37mPOST /_dash-update-component HTTP/1.1\u001b[0m\" 200 -\n"
     ]
    },
    {
     "output_type": "stream",
     "name": "stdout",
     "text": [
      "\n",
      "10\n",
      "normalization: \n",
      "norm is: no normalization\n",
      "protein_mass\n",
      "10\n",
      "normalization: protein_mass\n",
      "norm is: protein_mass\n",
      "protein_mass\n",
      "10\n",
      "normalization: protein_mass\n",
      "norm is: protein_mass\n",
      "protein_mass\n",
      "320\n",
      "normalization: protein_mass\n",
      "norm is: protein_mass\n"
     ]
    },
    {
     "output_type": "stream",
     "name": "stderr",
     "text": [
      "127.0.0.1 - - [05/Oct/2021 15:42:59] \"\u001b[37mPOST /_dash-update-component HTTP/1.1\u001b[0m\" 200 -\n",
      "127.0.0.1 - - [05/Oct/2021 15:43:00] \"\u001b[37mPOST /_dash-update-component HTTP/1.1\u001b[0m\" 200 -\n",
      "127.0.0.1 - - [05/Oct/2021 15:43:02] \"\u001b[37mPOST /_dash-update-component HTTP/1.1\u001b[0m\" 200 -\n"
     ]
    },
    {
     "output_type": "stream",
     "name": "stdout",
     "text": [
      "protein_mass\n",
      "320\n",
      "normalization: protein_mass\n",
      "norm is: protein_mass\n"
     ]
    },
    {
     "output_type": "stream",
     "name": "stderr",
     "text": [
      "127.0.0.1 - - [05/Oct/2021 15:46:21] \"\u001b[37mPOST /_dash-update-component HTTP/1.1\u001b[0m\" 200 -\n"
     ]
    }
   ],
   "metadata": {}
  }
 ],
 "metadata": {
  "orig_nbformat": 4,
  "language_info": {
   "name": "python",
   "version": "3.8.8",
   "mimetype": "text/x-python",
   "codemirror_mode": {
    "name": "ipython",
    "version": 3
   },
   "pygments_lexer": "ipython3",
   "nbconvert_exporter": "python",
   "file_extension": ".py"
  },
  "kernelspec": {
   "name": "python3",
   "display_name": "Python 3.8.8 64-bit ('base': conda)"
  },
  "interpreter": {
   "hash": "dca0ade3e726a953b501b15e8e990130d2b7799f14cfd9f4271676035ebe5511"
  }
 },
 "nbformat": 4,
 "nbformat_minor": 2
}