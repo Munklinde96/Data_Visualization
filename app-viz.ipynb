{
 "cells": [
  {
   "cell_type": "code",
   "execution_count": 1,
   "source": [
    "! pip install dash   \n",
    "! pip install dash-html-components                                         \n",
    "! pip install dash-core-components                                     \n",
    "! pip install plotly"
   ],
   "outputs": [
    {
     "output_type": "stream",
     "name": "stdout",
     "text": [
      "Requirement already satisfied: dash in /opt/anaconda3/lib/python3.8/site-packages (2.0.0)\n",
      "Requirement already satisfied: Flask>=1.0.4 in /opt/anaconda3/lib/python3.8/site-packages (from dash) (1.1.2)\n",
      "Requirement already satisfied: dash-core-components==2.0.0 in /opt/anaconda3/lib/python3.8/site-packages (from dash) (2.0.0)\n",
      "Requirement already satisfied: dash-html-components==2.0.0 in /opt/anaconda3/lib/python3.8/site-packages (from dash) (2.0.0)\n",
      "Requirement already satisfied: dash-table==5.0.0 in /opt/anaconda3/lib/python3.8/site-packages (from dash) (5.0.0)\n",
      "Requirement already satisfied: plotly>=5.0.0 in /opt/anaconda3/lib/python3.8/site-packages (from dash) (5.3.1)\n",
      "Requirement already satisfied: flask-compress in /opt/anaconda3/lib/python3.8/site-packages (from dash) (1.10.1)\n",
      "Requirement already satisfied: Jinja2>=2.10.1 in /opt/anaconda3/lib/python3.8/site-packages (from Flask>=1.0.4->dash) (2.11.3)\n",
      "Requirement already satisfied: click>=5.1 in /opt/anaconda3/lib/python3.8/site-packages (from Flask>=1.0.4->dash) (7.1.2)\n",
      "Requirement already satisfied: Werkzeug>=0.15 in /opt/anaconda3/lib/python3.8/site-packages (from Flask>=1.0.4->dash) (1.0.1)\n",
      "Requirement already satisfied: itsdangerous>=0.24 in /opt/anaconda3/lib/python3.8/site-packages (from Flask>=1.0.4->dash) (1.1.0)\n",
      "Requirement already satisfied: MarkupSafe>=0.23 in /opt/anaconda3/lib/python3.8/site-packages (from Jinja2>=2.10.1->Flask>=1.0.4->dash) (1.1.1)\n",
      "Requirement already satisfied: six in /opt/anaconda3/lib/python3.8/site-packages (from plotly>=5.0.0->dash) (1.15.0)\n",
      "Requirement already satisfied: tenacity>=6.2.0 in /opt/anaconda3/lib/python3.8/site-packages (from plotly>=5.0.0->dash) (8.0.1)\n",
      "Requirement already satisfied: brotli in /opt/anaconda3/lib/python3.8/site-packages (from flask-compress->dash) (1.0.9)\n",
      "Requirement already satisfied: dash-html-components in /opt/anaconda3/lib/python3.8/site-packages (2.0.0)\n",
      "Requirement already satisfied: dash-core-components in /opt/anaconda3/lib/python3.8/site-packages (2.0.0)\n",
      "Requirement already satisfied: plotly in /opt/anaconda3/lib/python3.8/site-packages (5.3.1)\n",
      "Requirement already satisfied: six in /opt/anaconda3/lib/python3.8/site-packages (from plotly) (1.15.0)\n",
      "Requirement already satisfied: tenacity>=6.2.0 in /opt/anaconda3/lib/python3.8/site-packages (from plotly) (8.0.1)\n"
     ]
    }
   ],
   "metadata": {}
  },
  {
   "cell_type": "code",
   "execution_count": 3,
   "source": [
    "import dash\n",
    "import dash_html_components as html\n",
    "import plotly.graph_objects as go\n",
    "import dash_core_components as dcc\n",
    "from dash.dependencies import Input, Output\n",
    "from utils import get_modification_count_per_protein\n",
    "import pandas as pd\n",
    "import plotly.express as px\n",
    "\n",
    "path = r\"UHT milk P036.csv\"\n",
    " \n",
    "df = pd.read_csv(path)\n",
    "\n",
    "def count_no_of_modifications(ptm_str):\n",
    "    #check if NaN value\n",
    "    if pd.isnull(ptm_str):\n",
    "        return 0\n",
    "    return 1 + ptm_str.count(';')\n",
    "\n",
    "#apply count_no_of_modifications to each PTM column\n",
    "df['#modifications'] = df['PTM'].apply(count_no_of_modifications)\n",
    "#print non zero values in modifcations column\n",
    "df[df['#modifications'] > 0]\n",
    "\n",
    "app = dash.Dash()\n",
    "\n",
    "colorscales = px.colors.named_colorscales()\n",
    "\n",
    "def df_to_plotly(df):\n",
    "    return {'z': df.values.tolist(),\n",
    "            'x': df.columns.tolist(),\n",
    "            'y': df.index.tolist()}\n",
    "\n",
    "app.layout = html.Div(id = 'parent', children = [\n",
    "    html.H1(id = 'H1', children = 'Distribution of modifications over different proteins', style = {'textAlign':'center',\\\n",
    "                                            'marginTop':40,'marginBottom':40}),\n",
    "        dcc.Dropdown( id = 'norm_dropdown',\n",
    "        style= {'padding': 5,},\n",
    "        options = [\n",
    "            {'label':'Normalization: nothing', \"value\":\"\" },\n",
    "            {'label': 'Normalization: total protein modification count', 'value':\"protein_total_mod_count\"},\n",
    "            {'label': 'Normalizaton: protein length', 'value':\"protein_length\"},\n",
    "            {'label': 'Normalization: protein mass', 'value':\"protein_mass\"},\n",
    "            {'label': 'Normalization: protein intensity', 'value':\"protein_intensity\"},\n",
    "            ],\n",
    "        value = ''),\n",
    "        dcc.Dropdown( id = 'count_dropdown',\n",
    "        style= {'padding': 5,},\n",
    "        options = [\n",
    "            {'label':'Only include proteins with modification count OVER 10', \"value\":10 },\n",
    "            {'label': 'Only include proteins with modification count OVER 20', 'value':20},\n",
    "            {'label': 'Only include proteins with modification count OVER 40', 'value':40},\n",
    "            {'label': 'Only include proteins with modification count OVER 80', 'value':80},\n",
    "            {'label': 'Only include proteins with modification count OVER 160', 'value':160},\n",
    "            {'label': 'Only include proteins with modification count OVER 320', 'value':320},\n",
    "            {'label': 'Only include proteins with modification count OVER 640', 'value':640},\n",
    "            ],\n",
    "        value = 80),\n",
    "        dcc.Dropdown(\n",
    "        id='colorscale', \n",
    "        style= {'padding': 5,},\n",
    "        options=[{\"value\": x, \"label\": x} \n",
    "                 for x in colorscales],\n",
    "        value='viridis'\n",
    "        ),\n",
    "        dcc.Graph(id = 'mod_heatmap_plot'),\n",
    "                dcc.Loading(\n",
    "            id=\"loading-1\",\n",
    "            type=\"default\",\n",
    "            children=html.Div(id=\"loading-output-1\")\n",
    "        ),\n",
    "    ])\n",
    "    \n",
    "    \n",
    "@app.callback(Output(component_id='mod_heatmap_plot', component_property= 'figure'),\n",
    "              [Input(component_id='norm_dropdown', component_property= 'value'), Input(component_id='count_dropdown', component_property= 'value'), Input(\"colorscale\", \"value\")])\n",
    "def graph_update(dropdown_value_norm, dropdown_value_count, scale):\n",
    "    print(dropdown_value_norm)\n",
    "    print(dropdown_value_count)\n",
    "    modPd = pd.DataFrame(get_modification_count_per_protein(df, dropdown_value_count, '{0}'.format(dropdown_value_norm)))\n",
    "    fig = go.Figure(data=go.Heatmap(df_to_plotly(modPd), colorscale = scale))\n",
    "    fig.update_layout(xaxis_title = 'Name of protein',\n",
    "                      yaxis_title = 'Name of modification'\n",
    "                      )\n",
    "    return fig  \n",
    "\n",
    "\n",
    "app.run_server()"
   ],
   "outputs": [
    {
     "output_type": "stream",
     "name": "stdout",
     "text": [
      "Dash is running on http://127.0.0.1:8050/\n",
      "\n",
      "Dash is running on http://127.0.0.1:8050/\n",
      "\n",
      "Dash is running on http://127.0.0.1:8050/\n",
      "\n",
      " * Serving Flask app \"__main__\" (lazy loading)\n",
      " * Environment: production\n",
      "\u001b[31m   WARNING: This is a development server. Do not use it in a production deployment.\u001b[0m\n",
      "\u001b[2m   Use a production WSGI server instead.\u001b[0m\n",
      " * Debug mode: off\n"
     ]
    },
    {
     "output_type": "stream",
     "name": "stderr",
     "text": [
      " * Running on http://127.0.0.1:8050/ (Press CTRL+C to quit)\n"
     ]
    }
   ],
   "metadata": {}
  }
 ],
 "metadata": {
  "orig_nbformat": 4,
  "language_info": {
   "name": "python",
   "version": "3.8.8",
   "mimetype": "text/x-python",
   "codemirror_mode": {
    "name": "ipython",
    "version": 3
   },
   "pygments_lexer": "ipython3",
   "nbconvert_exporter": "python",
   "file_extension": ".py"
  },
  "kernelspec": {
   "name": "python3",
   "display_name": "Python 3.8.8 64-bit ('base': conda)"
  },
  "interpreter": {
   "hash": "dca0ade3e726a953b501b15e8e990130d2b7799f14cfd9f4271676035ebe5511"
  }
 },
 "nbformat": 4,
 "nbformat_minor": 2
}