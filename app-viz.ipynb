{
 "cells": [
  {
   "cell_type": "code",
   "execution_count": null,
   "metadata": {},
   "outputs": [
    {
     "name": "stdout",
     "output_type": "stream",
     "text": [
      "Collecting dash\n",
      "  Downloading dash-2.0.0-py3-none-any.whl (7.3 MB)\n",
      "Collecting dash-table==5.0.0\n",
      "  Downloading dash_table-5.0.0.tar.gz (3.4 kB)\n",
      "Collecting dash-html-components==2.0.0\n",
      "  Downloading dash_html_components-2.0.0.tar.gz (3.8 kB)\n",
      "Collecting plotly>=5.0.0\n",
      "  Downloading plotly-5.3.1-py2.py3-none-any.whl (23.9 MB)\n",
      "Collecting flask-compress\n",
      "  Downloading Flask_Compress-1.10.1-py3-none-any.whl (7.9 kB)\n",
      "Collecting dash-core-components==2.0.0\n",
      "  Downloading dash_core_components-2.0.0.tar.gz (3.4 kB)\n",
      "Requirement already satisfied: Flask>=1.0.4 in c:\\users\\chris\\anaconda3\\lib\\site-packages (from dash) (1.1.1)\n",
      "Requirement already satisfied: six in c:\\users\\chris\\anaconda3\\lib\\site-packages (from plotly>=5.0.0->dash) (1.14.0)\n",
      "Collecting tenacity>=6.2.0\n",
      "  Downloading tenacity-8.0.1-py3-none-any.whl (24 kB)\n",
      "Collecting brotli\n",
      "  Downloading Brotli-1.0.9-cp37-cp37m-win_amd64.whl (365 kB)\n",
      "Requirement already satisfied: Jinja2>=2.10.1 in c:\\users\\chris\\anaconda3\\lib\\site-packages (from Flask>=1.0.4->dash) (2.11.1)\n",
      "Requirement already satisfied: click>=5.1 in c:\\users\\chris\\anaconda3\\lib\\site-packages (from Flask>=1.0.4->dash) (7.0)\n",
      "Requirement already satisfied: Werkzeug>=0.15 in c:\\users\\chris\\anaconda3\\lib\\site-packages (from Flask>=1.0.4->dash) (1.0.0)\n",
      "Requirement already satisfied: itsdangerous>=0.24 in c:\\users\\chris\\anaconda3\\lib\\site-packages (from Flask>=1.0.4->dash) (1.1.0)\n",
      "Requirement already satisfied: MarkupSafe>=0.23 in c:\\users\\chris\\anaconda3\\lib\\site-packages (from Jinja2>=2.10.1->Flask>=1.0.4->dash) (1.1.1)\n",
      "Building wheels for collected packages: dash-table, dash-html-components, dash-core-components\n",
      "  Building wheel for dash-table (setup.py): started\n",
      "  Building wheel for dash-table (setup.py): finished with status 'done'\n",
      "  Created wheel for dash-table: filename=dash_table-5.0.0-py3-none-any.whl size=3900 sha256=6202cad9fae7de717a13fc023ee2a04ce58bd74ac7c2b5d4ddde149bb5a87703\n",
      "  Stored in directory: c:\\users\\chris\\appdata\\local\\pip\\cache\\wheels\\85\\5d\\4e\\7c276b57992951dbe770bf5caad6448d0539c510663aefd2e2\n",
      "  Building wheel for dash-html-components (setup.py): started\n",
      "  Building wheel for dash-html-components (setup.py): finished with status 'done'\n",
      "  Created wheel for dash-html-components: filename=dash_html_components-2.0.0-py3-none-any.whl size=4076 sha256=cddea4b5e3cb6027fdd9cca993c307b341f59af7d745a4bd7e9372ff8ce22335\n",
      "  Stored in directory: c:\\users\\chris\\appdata\\local\\pip\\cache\\wheels\\ec\\6b\\81\\05aceabd8b27f724e2c96784016287cc1bfbc349ebfda451de\n",
      "  Building wheel for dash-core-components (setup.py): started\n",
      "  Building wheel for dash-core-components (setup.py): finished with status 'done'\n",
      "  Created wheel for dash-core-components: filename=dash_core_components-2.0.0-py3-none-any.whl size=3806 sha256=72b7cf566f9a96252ae66e18c2abe8a5ffb918a01903b445dde1e5717d836c47\n",
      "  Stored in directory: c:\\users\\chris\\appdata\\local\\pip\\cache\\wheels\\00\\f9\\c7\\1a6437d794ed753ea9bc9079e761d4fc803a1f1f5d3697b9ec\n",
      "Successfully built dash-table dash-html-components dash-core-components\n",
      "Installing collected packages: dash-table, dash-html-components, tenacity, plotly, brotli, flask-compress, dash-core-components, dash\n",
      "Successfully installed brotli-1.0.9 dash-2.0.0 dash-core-components-2.0.0 dash-html-components-2.0.0 dash-table-5.0.0 flask-compress-1.10.1 plotly-5.3.1 tenacity-8.0.1\n",
      "Requirement already satisfied: dash-html-components in c:\\users\\chris\\anaconda3\\lib\\site-packages (2.0.0)\n",
      "Requirement already satisfied: dash-core-components in c:\\users\\chris\\anaconda3\\lib\\site-packages (2.0.0)\n",
      "Requirement already satisfied: plotly in c:\\users\\chris\\anaconda3\\lib\\site-packages (5.3.1)\n",
      "Requirement already satisfied: six in c:\\users\\chris\\anaconda3\\lib\\site-packages (from plotly) (1.14.0)\n",
      "Requirement already satisfied: tenacity>=6.2.0 in c:\\users\\chris\\anaconda3\\lib\\site-packages (from plotly) (8.0.1)\n"
     ]
    }
   ],
   "source": [
    "! pip install dash   \n",
    "! pip install dash-html-components                                         \n",
    "! pip install dash-core-components                                     \n",
    "! pip install plotly"
   ]
  },
  {
   "cell_type": "code",
   "execution_count": 1,
   "metadata": {},
   "outputs": [
    {
     "name": "stderr",
     "output_type": "stream",
     "text": [
      "C:\\Users\\chris\\anaconda3\\lib\\site-packages\\ipykernel_launcher.py:2: UserWarning: \n",
      "The dash_html_components package is deprecated. Please replace\n",
      "`import dash_html_components as html` with `from dash import html`\n",
      "  \n",
      "C:\\Users\\chris\\anaconda3\\lib\\site-packages\\ipykernel_launcher.py:4: UserWarning: \n",
      "The dash_core_components package is deprecated. Please replace\n",
      "`import dash_core_components as dcc` with `from dash import dcc`\n",
      "  after removing the cwd from sys.path.\n"
     ]
    },
    {
     "name": "stdout",
     "output_type": "stream",
     "text": [
      "Dash is running on http://127.0.0.1:8050/\n",
      "\n",
      " * Serving Flask app \"__main__\" (lazy loading)\n",
      " * Environment: production\n",
      "   WARNING: This is a development server. Do not use it in a production deployment.\n",
      "   Use a production WSGI server instead.\n",
      " * Debug mode: off\n"
     ]
    },
    {
     "name": "stderr",
     "output_type": "stream",
     "text": [
      " * Running on http://127.0.0.1:8050/ (Press CTRL+C to quit)\n",
      "127.0.0.1 - - [07/Oct/2021 10:32:55] \"\u001b[37mGET / HTTP/1.1\u001b[0m\" 200 -\n",
      "127.0.0.1 - - [07/Oct/2021 10:32:55] \"\u001b[37mGET /_dash-layout HTTP/1.1\u001b[0m\" 200 -\n",
      "127.0.0.1 - - [07/Oct/2021 10:32:55] \"\u001b[37mGET /_dash-dependencies HTTP/1.1\u001b[0m\" 200 -\n",
      "127.0.0.1 - - [07/Oct/2021 10:32:55] \"\u001b[37mGET /_dash-component-suites/dash/dcc/async-dropdown.js HTTP/1.1\u001b[0m\" 200 -\n",
      "127.0.0.1 - - [07/Oct/2021 10:32:55] \"\u001b[37mGET /_dash-component-suites/dash/dcc/async-graph.js HTTP/1.1\u001b[0m\" 200 -\n",
      "127.0.0.1 - - [07/Oct/2021 10:32:55] \"\u001b[37mGET /_dash-component-suites/dash/dcc/async-plotlyjs.js HTTP/1.1\u001b[0m\" 200 -\n",
      "127.0.0.1 - - [07/Oct/2021 10:32:55] \"\u001b[37mPOST /_dash-update-component HTTP/1.1\u001b[0m\" 200 -\n"
     ]
    },
    {
     "name": "stdout",
     "output_type": "stream",
     "text": [
      "\n",
      "80\n",
      "normalization: \n",
      "norm is: no normalization\n"
     ]
    },
    {
     "name": "stderr",
     "output_type": "stream",
     "text": [
      "127.0.0.1 - - [07/Oct/2021 10:33:03] \"\u001b[37mPOST /_dash-update-component HTTP/1.1\u001b[0m\" 200 -\n"
     ]
    },
    {
     "name": "stdout",
     "output_type": "stream",
     "text": [
      "\n",
      "160\n",
      "normalization: \n",
      "norm is: no normalization\n"
     ]
    },
    {
     "name": "stderr",
     "output_type": "stream",
     "text": [
      "127.0.0.1 - - [07/Oct/2021 10:33:08] \"\u001b[37mPOST /_dash-update-component HTTP/1.1\u001b[0m\" 200 -\n"
     ]
    },
    {
     "name": "stdout",
     "output_type": "stream",
     "text": [
      "protein_intensity\n",
      "160\n",
      "normalization: protein_intensity\n",
      "norm is: protein_intensity\n",
      "protein_length\n",
      "160\n",
      "normalization: protein_length\n",
      "norm is: protein_length\n"
     ]
    },
    {
     "name": "stderr",
     "output_type": "stream",
     "text": [
      "127.0.0.1 - - [07/Oct/2021 10:33:27] \"\u001b[37mPOST /_dash-update-component HTTP/1.1\u001b[0m\" 200 -\n"
     ]
    },
    {
     "name": "stdout",
     "output_type": "stream",
     "text": [
      "protein_mass\n",
      "160\n",
      "normalization: protein_mass\n",
      "norm is: protein_mass\n"
     ]
    },
    {
     "name": "stderr",
     "output_type": "stream",
     "text": [
      "127.0.0.1 - - [07/Oct/2021 10:33:38] \"\u001b[37mPOST /_dash-update-component HTTP/1.1\u001b[0m\" 200 -\n"
     ]
    },
    {
     "name": "stdout",
     "output_type": "stream",
     "text": [
      "protein_length\n",
      "160\n",
      "normalization: protein_length\n",
      "norm is: protein_length\n"
     ]
    },
    {
     "name": "stderr",
     "output_type": "stream",
     "text": [
      "127.0.0.1 - - [07/Oct/2021 10:33:46] \"\u001b[37mPOST /_dash-update-component HTTP/1.1\u001b[0m\" 200 -\n",
      "127.0.0.1 - - [07/Oct/2021 10:34:32] \"\u001b[37mPOST /_dash-update-component HTTP/1.1\u001b[0m\" 200 -\n"
     ]
    },
    {
     "name": "stdout",
     "output_type": "stream",
     "text": [
      "protein_total_mod_count\n",
      "160\n",
      "normalization: protein_total_mod_count\n",
      "norm is: protein_total_mod_count\n",
      "P02666\n",
      "P02662\n",
      "P02668\n",
      "P02754\n",
      "B5B3R8\n",
      "P00711\n",
      "P02663\n",
      "G9G9X6\n",
      "protein_mass\n",
      "160\n",
      "normalization: protein_mass\n",
      "norm is: protein_mass\n"
     ]
    },
    {
     "name": "stderr",
     "output_type": "stream",
     "text": [
      "127.0.0.1 - - [07/Oct/2021 10:40:42] \"\u001b[37mPOST /_dash-update-component HTTP/1.1\u001b[0m\" 200 -\n"
     ]
    }
   ],
   "source": [
    "import dash\n",
    "import dash_html_components as html\n",
    "import plotly.graph_objects as go\n",
    "import dash_core_components as dcc\n",
    "from dash.dependencies import Input, Output\n",
    "from utils import get_modification_count_per_protein\n",
    "import pandas as pd\n",
    "import plotly.express as px\n",
    "\n",
    "path = r\"UHT milk P036.csv\"\n",
    " \n",
    "df = pd.read_csv(path)\n",
    "\n",
    "def count_no_of_modifications(ptm_str):\n",
    "    #check if NaN value\n",
    "    if pd.isnull(ptm_str):\n",
    "        return 0\n",
    "    return 1 + ptm_str.count(';')\n",
    "\n",
    "#apply count_no_of_modifications to each PTM column\n",
    "df['#modifications'] = df['PTM'].apply(count_no_of_modifications)\n",
    "#print non zero values in modifcations column\n",
    "df[df['#modifications'] > 0]\n",
    "\n",
    "app = dash.Dash()\n",
    "\n",
    "colorscales = px.colors.named_colorscales()\n",
    "\n",
    "def df_to_plotly(df):\n",
    "    return {'z': df.values.tolist(),\n",
    "            'x': df.columns.tolist(),\n",
    "            'y': df.index.tolist()}\n",
    "\n",
    "app.layout = html.Div(id = 'parent', children = [\n",
    "    html.H1(id = 'H1', children = 'Distribution of modifications over different proteins', style = {'textAlign':'center',\\\n",
    "                                            'marginTop':40,'marginBottom':40}),\n",
    "        dcc.Dropdown( id = 'norm_dropdown',\n",
    "        style= {'padding': 5,},\n",
    "        options = [\n",
    "            {'label':'Normalization: nothing', \"value\":\"\" },\n",
    "            {'label': 'Normalization: total protein modification count', 'value':\"protein_total_mod_count\"},\n",
    "            {'label': 'Normalizaton: protein length', 'value':\"protein_length\"},\n",
    "            {'label': 'Normalization: protein mass', 'value':\"protein_mass\"},\n",
    "            {'label': 'Normalization: protein intensity', 'value':\"protein_intensity\"},\n",
    "            ],\n",
    "        value = ''),\n",
    "        dcc.Dropdown( id = 'count_dropdown',\n",
    "        style= {'padding': 5,},\n",
    "        options = [\n",
    "            {'label':'Only include proteins with modification count OVER 10', \"value\":10 },\n",
    "            {'label': 'Only include proteins with modification count OVER 20', 'value':20},\n",
    "            {'label': 'Only include proteins with modification count OVER 40', 'value':40},\n",
    "            {'label': 'Only include proteins with modification count OVER 80', 'value':80},\n",
    "            {'label': 'Only include proteins with modification count OVER 160', 'value':160},\n",
    "            {'label': 'Only include proteins with modification count OVER 320', 'value':320},\n",
    "            {'label': 'Only include proteins with modification count OVER 640', 'value':640},\n",
    "            ],\n",
    "        value = 80),\n",
    "        dcc.Dropdown(\n",
    "        id='colorscale', \n",
    "        style= {'padding': 5,},\n",
    "        options=[{\"value\": x, \"label\": x} \n",
    "                 for x in colorscales],\n",
    "        value='viridis'\n",
    "        ),\n",
    "        dcc.Graph(id = 'mod_heatmap_plot'),\n",
    "                dcc.Loading(\n",
    "            id=\"loading-1\",\n",
    "            type=\"default\",\n",
    "            children=html.Div(id=\"loading-output-1\")\n",
    "        ),\n",
    "    ])\n",
    "    \n",
    "    \n",
    "@app.callback(Output(component_id='mod_heatmap_plot', component_property= 'figure'),\n",
    "              [Input(component_id='norm_dropdown', component_property= 'value'), Input(component_id='count_dropdown', component_property= 'value'), Input(\"colorscale\", \"value\")])\n",
    "def graph_update(dropdown_value_norm, dropdown_value_count, scale):\n",
    "    print(dropdown_value_norm)\n",
    "    print(dropdown_value_count)\n",
    "    modPd = pd.DataFrame(get_modification_count_per_protein(df, dropdown_value_count, '{0}'.format(dropdown_value_norm)))\n",
    "    fig = go.Figure(data=go.Heatmap(df_to_plotly(modPd), colorscale = scale))\n",
    "    fig.update_layout(xaxis_title = 'Name of protein',\n",
    "                      yaxis_title = 'Name of modification'\n",
    "                      )\n",
    "    return fig  \n",
    "\n",
    "\n",
    "app.run_server()"
   ]
  }
 ],
 "metadata": {
  "interpreter": {
   "hash": "c72a629dba5ae9edebcad565c17c3988d814021371aabb3db62cb04d2b10dbfe"
  },
  "kernelspec": {
   "display_name": "Python 3.7.6 64-bit ('base': conda)",
   "name": "python3"
  },
  "language_info": {
   "codemirror_mode": {
    "name": "ipython",
    "version": 3
   },
   "file_extension": ".py",
   "mimetype": "text/x-python",
   "name": "python",
   "nbconvert_exporter": "python",
   "pygments_lexer": "ipython3",
   "version": "3.7.6"
  },
  "orig_nbformat": 4
 },
 "nbformat": 4,
 "nbformat_minor": 2
}
