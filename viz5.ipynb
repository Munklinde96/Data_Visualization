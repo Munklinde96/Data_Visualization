{
 "cells": [
  {
   "cell_type": "code",
   "execution_count": 29,
   "metadata": {},
   "outputs": [
    {
     "name": "stderr",
     "output_type": "stream",
     "text": [
      "/opt/anaconda3/lib/python3.7/site-packages/seaborn/distributions.py:2557: FutureWarning: `distplot` is a deprecated function and will be removed in a future version. Please adapt your code to use either `displot` (a figure-level function with similar flexibility) or `histplot` (an axes-level function for histograms).\n",
      "  warnings.warn(msg, FutureWarning)\n"
     ]
    },
    {
     "data": {
      "text/plain": [
       "Text(0.5, 0, 'Intensity over all 4 samples - log scale')"
      ]
     },
     "execution_count": 29,
     "metadata": {},
     "output_type": "execute_result"
    },
    {
     "data": {
      "image/png": "[encoded data removed]",
      "text/plain": [
       "<Figure size 864x576 with 1 Axes>"
      ]
     },
     "metadata": {
      "needs_background": "light"
     },
     "output_type": "display_data"
    }
   ],
   "source": [
    "from utils import get_data_and_remove_unwanted_columns, sanitize_data, preprocess_data_for_peptide_segment_plot, get_peptide_segments_and_modifications, plot_peptide_segments, normalize_intensities_by_protein_intensity, split_data_in_samples, get_protein_sequence, get_overlap_overlaps_by_intensity_and_sample, get_overlap_pixel_plot, get_gradient_plot\n",
    "import matplotlib.pyplot as plt\n",
    "import numpy as np\n",
    "import seaborn as sns\n",
    "import pandas as pd\n",
    "_protein = \"P02754\"\n",
    "df = get_data_and_remove_unwanted_columns()\n",
    "df = sanitize_data(df)\n",
    "dfs = normalize_intensities_by_protein_intensity(df)\n",
    "\n",
    "#get distribution of intensities\n",
    "#make column with sum over sample1, sample2, sample3 and sample4 columns\n",
    "dfs[0][\"sum_over_samples\"] = dfs[0][\"Area Sample 1\"] + dfs[0][\"Area Sample 2\"] + dfs[0][\"Area Sample 3\"] + dfs[0][\"Area Sample 4\"]\n",
    "#plot distribution of intensities\n",
    "plt.figure(figsize=(12,8))\n",
    "max_ = dfs[0][\"sum_over_samples\"].max()\n",
    "sns.distplot(dfs[0][\"sum_over_samples\"], kde=False)\n",
    "#plt.xscale(\"log\")\n",
    "# add x ticks \n",
    "plt.xticks(np.arange(0,max_,1), labels = np.arange(0,max_,1))\n",
    "plt.xlabel(\"Intensity over all 4 samples\")\n",
    "# add label on top of bars\n",
    "\n"
   ]
  },
  {
   "cell_type": "code",
   "execution_count": 31,
   "metadata": {},
   "outputs": [
    {
     "data": {
      "text/plain": [
       "Text(0.5, 0, 'Intensity over all 4 samples')"
      ]
     },
     "execution_count": 31,
     "metadata": {},
     "output_type": "execute_result"
    },
    {
     "data": {
      "image/png": "[encoded data removed]",
      "text/plain": [
       "<Figure size 864x576 with 1 Axes>"
      ]
     },
     "metadata": {
      "needs_background": "light"
     },
     "output_type": "display_data"
    }
   ],
   "source": [
    "df = get_data_and_remove_unwanted_columns()\n",
    "df = sanitize_data(df)\n",
    "dfs = normalize_intensities_by_protein_intensity(df)\n",
    "\n",
    "#get distribution of intensities\n",
    "#make column with sum over sample1, sample2, sample3 and sample4 columns\n",
    "dfs[0][\"sum_over_samples\"] = dfs[0][\"Area Sample 1\"] + dfs[0][\"Area Sample 2\"] + dfs[0][\"Area Sample 3\"] + dfs[0][\"Area Sample 4\"]\n",
    "#plot distribution of intensities\n",
    "plt.figure(figsize=(12,8))\n",
    "max_ = dfs[0][\"sum_over_samples\"].max()\n",
    "sns.distplot(dfs[0][\"sum_over_samples\"], kde=False)\n",
    "#plt.xscale(\"log\")\n",
    "# add x ticks \n",
    "plt.xlabel(\"Intensity over all 4 samples\")\n",
    "# add label on top of bars\n",
    "\n"
   ]
  }
 ],
 "metadata": {
  "interpreter": {
   "hash": "40d3a090f54c6569ab1632332b64b2c03c39dcf918b08424e98f38b5ae0af88f"
  },
  "kernelspec": {
   "display_name": "Python 3.7.4 64-bit ('base': conda)",
   "name": "python3"
  },
  "language_info": {
   "name": "python",
   "version": "3.7.4"
  },
  "orig_nbformat": 4
 },
 "nbformat": 4,
 "nbformat_minor": 2
}
