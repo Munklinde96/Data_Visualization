{
 "cells": [
  {
   "cell_type": "code",
   "execution_count": null,
   "source": [
    "df_sample_view = df[[\"#Feature Sample 1\", \"#Feature Sample 2\", \"#Feature Sample 3\", \"#Feature Sample 4\"]] \n",
    "df_sample_view = df_sample_view.idxmax(axis=1)\n",
    "#make series into dataframe\n",
    "df_sample_view = pd.DataFrame(df_sample_view, columns=['Max feature sample value'])\n",
    "df_sample_view['#modifications'] = df_sample_view_and_mods['#modifications']\n",
    "\n",
    "df_sample_view\n",
    "# count Max feature sample value\n",
    "df_sample_view_count = df_sample_view.groupby(['Max feature sample value'])['Max feature sample value'].count()\n",
    "# plot count Max feature sample value\n",
    "plt.figure(figsize=(25,10))\n",
    "sns.barplot(x=df_sample_view_count.index, y=df_sample_view_count.values, color = '#F0E0E6')\n",
    "plt.title(f'The number of times each feature sample is the largest)')\n",
    "plt.xlabel('Feature sample')\n",
    "plt.ylabel('Count')"
   ],
   "outputs": [],
   "metadata": {}
  }
 ],
 "metadata": {
  "orig_nbformat": 4,
  "language_info": {
   "name": "python",
   "version": "3.8.2"
  },
  "kernelspec": {
   "name": "python3",
   "display_name": "Python 3.8.2 64-bit"
  },
  "interpreter": {
   "hash": "31f2aee4e71d21fbe5cf8b01ff0e069b9275f58929596ceb00d14d90e3e16cd6"
  }
 },
 "nbformat": 4,
 "nbformat_minor": 2
}